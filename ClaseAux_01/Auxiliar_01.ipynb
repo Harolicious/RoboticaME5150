{
  "nbformat": 4,
  "nbformat_minor": 0,
  "metadata": {
    "colab": {
      "provenance": []
    },
    "kernelspec": {
      "name": "python3",
      "display_name": "Python 3"
    },
    "language_info": {
      "name": "python"
    }
  },
  "cells": [
    {
      "cell_type": "markdown",
      "source": [
        "#Transformaciones Homogéneas\n",
        "\n",
        "Las translaformaciones homogéneas sirven entre otras cosas para representar el giro y la traslación realizados sobre un sistema de referencia.\n",
        "\n",
        "Esta utilidad de las matrices homogéneas cobra aún más importancia cuando se componen las matrices homogenenas para describir diversos giros y traslaciones consecutivos sobre un sistema de referencia determinado. \n",
        "\n",
        "De esta manera, una transformación puede descomponerse en la aplicación consecutiva de transformaciones simples."
      ],
      "metadata": {
        "id": "zJX1GW6D7LvT"
      }
    },
    {
      "cell_type": "markdown",
      "source": [
        "### Funciones\n",
        "\n",
        "En la siguiente seccion se definen las librerias matemáticas requeridas para ser usadas en la representacion de las matrices de transformacion homogéneas.\n"
      ],
      "metadata": {
        "id": "kXQ4h-HZjpkO"
      }
    },
    {
      "cell_type": "code",
      "execution_count": 2,
      "metadata": {
        "id": "Nyybiu9cSmuQ"
      },
      "outputs": [],
      "source": [
        "from sympy import Matrix, Symbol, sin, cos, pi\n",
        "import numpy as np\n",
        "\n",
        "\n",
        "def Rotx_matrix(alpha=0):\n",
        "    alpha = Symbol(alpha) if isinstance(alpha, str) else alpha\n",
        "    matrix_Rotx_alpha = Matrix([\n",
        "        [1, 0         , 0           ,0],\n",
        "        [0, cos(alpha), -sin(alpha) ,0],\n",
        "        [0, sin(alpha), cos(alpha)  ,0],\n",
        "        [0, 0         , 0           ,1]\n",
        "    ])\n",
        "\n",
        "    return matrix_Rotx_alpha\n",
        "\n",
        "def Roty_matrix(phi=0):\n",
        "    phi = Symbol(phi) if isinstance(phi, str) else phi\n",
        "    matrix_Rot_phi = Matrix([\n",
        "        [cos(phi) , 0, sin(phi) ,0],\n",
        "        [0        , 1, 0        ,0],\n",
        "        [-sin(phi), 0, cos(phi) ,0],\n",
        "        [0        , 0, 0        ,1]\n",
        "    ])\n",
        "\n",
        "    return matrix_Rot_phi\n",
        "\n",
        "def Rotz_matrix(theta=0):\n",
        "    theta = Symbol(theta) if isinstance(theta, str) else theta\n",
        "    matrix_Rot_theta = Matrix([\n",
        "        [cos(theta), -sin(theta) ,0 ,0],\n",
        "        [sin(theta), cos(theta)  ,0 ,0],\n",
        "        [0         , 0           ,1 ,0],\n",
        "        [0         , 0           ,0 ,1]\n",
        "    ])\n",
        "\n",
        "    return matrix_Rot_theta\n",
        "\n",
        "def Matrix_transformation(Matriz_1,Matriz_2,Matriz_3):\n",
        "    Matriz_T = Matriz_1 * Matriz_2 * Matriz_3\n",
        "\n",
        "    if isinstance(Rotx_matrix(),float):\n",
        "      if isinstance(Roty_matrix(),float):\n",
        "        if isinstance(Rotz_matrix(),float):\n",
        "          np.array(Matriz_T).astype(np.float64)\n",
        "     \n",
        "\n",
        "    return Matriz_T\n",
        "\n",
        "def Posicion(p_x=0,p_y=0,p_z=0):\n",
        "  x = Symbol('p_x') if isinstance(p_x, str) else p_x\n",
        "  y = Symbol('p_y') if isinstance(p_y, str) else p_y\n",
        "  z = Symbol('p_z') if isinstance(p_z, str) else p_z\n",
        "  Trasla = Matrix([\n",
        "      [1,0,0,x],\n",
        "      [0,1,0,y],\n",
        "      [0,0,1,z],\n",
        "      [0,0,0,1]\n",
        "  ])\n",
        "  return Trasla\n"
      ]
    },
    {
      "cell_type": "markdown",
      "source": [
        "### Si observamos solamente la rotación del sistema"
      ],
      "metadata": {
        "id": "FXmtXC1oDQw_"
      }
    },
    {
      "cell_type": "code",
      "source": [
        "Rotx_matrix('alpha')"
      ],
      "metadata": {
        "colab": {
          "base_uri": "https://localhost:8080/",
          "height": 98
        },
        "id": "_kQFDffSXlFC",
        "outputId": "ece20547-fdcd-45be-99b6-31b54187d3ae"
      },
      "execution_count": 3,
      "outputs": [
        {
          "output_type": "execute_result",
          "data": {
            "text/plain": [
              "Matrix([\n",
              "[1,          0,           0, 0],\n",
              "[0, cos(alpha), -sin(alpha), 0],\n",
              "[0, sin(alpha),  cos(alpha), 0],\n",
              "[0,          0,           0, 1]])"
            ],
            "text/latex": "$\\displaystyle \\left[\\begin{matrix}1 & 0 & 0 & 0\\\\0 & \\cos{\\left(\\alpha \\right)} & - \\sin{\\left(\\alpha \\right)} & 0\\\\0 & \\sin{\\left(\\alpha \\right)} & \\cos{\\left(\\alpha \\right)} & 0\\\\0 & 0 & 0 & 1\\end{matrix}\\right]$"
          },
          "metadata": {},
          "execution_count": 3
        }
      ]
    },
    {
      "cell_type": "code",
      "source": [
        "Roty_matrix('phi')"
      ],
      "metadata": {
        "colab": {
          "base_uri": "https://localhost:8080/",
          "height": 98
        },
        "id": "nsONJgZ9ZGlE",
        "outputId": "107af207-3b89-4f3a-91ce-c0ad35ad861f"
      },
      "execution_count": 4,
      "outputs": [
        {
          "output_type": "execute_result",
          "data": {
            "text/plain": [
              "Matrix([\n",
              "[ cos(phi), 0, sin(phi), 0],\n",
              "[        0, 1,        0, 0],\n",
              "[-sin(phi), 0, cos(phi), 0],\n",
              "[        0, 0,        0, 1]])"
            ],
            "text/latex": "$\\displaystyle \\left[\\begin{matrix}\\cos{\\left(\\phi \\right)} & 0 & \\sin{\\left(\\phi \\right)} & 0\\\\0 & 1 & 0 & 0\\\\- \\sin{\\left(\\phi \\right)} & 0 & \\cos{\\left(\\phi \\right)} & 0\\\\0 & 0 & 0 & 1\\end{matrix}\\right]$"
          },
          "metadata": {},
          "execution_count": 4
        }
      ]
    },
    {
      "cell_type": "code",
      "source": [
        "Rotz_matrix('theta')"
      ],
      "metadata": {
        "colab": {
          "base_uri": "https://localhost:8080/",
          "height": 98
        },
        "id": "12avFRgaZIMS",
        "outputId": "1e7d8ca9-f909-4c1f-f14e-72a5e16a3f6b"
      },
      "execution_count": 5,
      "outputs": [
        {
          "output_type": "execute_result",
          "data": {
            "text/plain": [
              "Matrix([\n",
              "[cos(theta), -sin(theta), 0, 0],\n",
              "[sin(theta),  cos(theta), 0, 0],\n",
              "[         0,           0, 1, 0],\n",
              "[         0,           0, 0, 1]])"
            ],
            "text/latex": "$\\displaystyle \\left[\\begin{matrix}\\cos{\\left(\\theta \\right)} & - \\sin{\\left(\\theta \\right)} & 0 & 0\\\\\\sin{\\left(\\theta \\right)} & \\cos{\\left(\\theta \\right)} & 0 & 0\\\\0 & 0 & 1 & 0\\\\0 & 0 & 0 & 1\\end{matrix}\\right]$"
          },
          "metadata": {},
          "execution_count": 5
        }
      ]
    },
    {
      "cell_type": "code",
      "source": [
        "R = Matrix_transformation(Rotz_matrix('theta'),Roty_matrix('phi'),Rotx_matrix('alpha'))\n",
        "R"
      ],
      "metadata": {
        "colab": {
          "base_uri": "https://localhost:8080/",
          "height": 98
        },
        "id": "jpRnVBCpXSx7",
        "outputId": "0aa17435-085e-4589-8b67-6506bf18fc46"
      },
      "execution_count": 6,
      "outputs": [
        {
          "output_type": "execute_result",
          "data": {
            "text/plain": [
              "Matrix([\n",
              "[cos(phi)*cos(theta), sin(alpha)*sin(phi)*cos(theta) - sin(theta)*cos(alpha),  sin(alpha)*sin(theta) + sin(phi)*cos(alpha)*cos(theta), 0],\n",
              "[sin(theta)*cos(phi), sin(alpha)*sin(phi)*sin(theta) + cos(alpha)*cos(theta), -sin(alpha)*cos(theta) + sin(phi)*sin(theta)*cos(alpha), 0],\n",
              "[          -sin(phi),                                    sin(alpha)*cos(phi),                                     cos(alpha)*cos(phi), 0],\n",
              "[                  0,                                                      0,                                                       0, 1]])"
            ],
            "text/latex": "$\\displaystyle \\left[\\begin{matrix}\\cos{\\left(\\phi \\right)} \\cos{\\left(\\theta \\right)} & \\sin{\\left(\\alpha \\right)} \\sin{\\left(\\phi \\right)} \\cos{\\left(\\theta \\right)} - \\sin{\\left(\\theta \\right)} \\cos{\\left(\\alpha \\right)} & \\sin{\\left(\\alpha \\right)} \\sin{\\left(\\theta \\right)} + \\sin{\\left(\\phi \\right)} \\cos{\\left(\\alpha \\right)} \\cos{\\left(\\theta \\right)} & 0\\\\\\sin{\\left(\\theta \\right)} \\cos{\\left(\\phi \\right)} & \\sin{\\left(\\alpha \\right)} \\sin{\\left(\\phi \\right)} \\sin{\\left(\\theta \\right)} + \\cos{\\left(\\alpha \\right)} \\cos{\\left(\\theta \\right)} & - \\sin{\\left(\\alpha \\right)} \\cos{\\left(\\theta \\right)} + \\sin{\\left(\\phi \\right)} \\sin{\\left(\\theta \\right)} \\cos{\\left(\\alpha \\right)} & 0\\\\- \\sin{\\left(\\phi \\right)} & \\sin{\\left(\\alpha \\right)} \\cos{\\left(\\phi \\right)} & \\cos{\\left(\\alpha \\right)} \\cos{\\left(\\phi \\right)} & 0\\\\0 & 0 & 0 & 1\\end{matrix}\\right]$"
          },
          "metadata": {},
          "execution_count": 6
        }
      ]
    },
    {
      "cell_type": "markdown",
      "source": [
        "###Ahora si definimos la posición"
      ],
      "metadata": {
        "id": "A0U_FVbqDVIK"
      }
    },
    {
      "cell_type": "code",
      "source": [
        "P = Posicion(Symbol('p_x'),Symbol('p_y'),Symbol('p_z'))\n",
        "P"
      ],
      "metadata": {
        "colab": {
          "base_uri": "https://localhost:8080/",
          "height": 98
        },
        "id": "Yc85skBJefvF",
        "outputId": "6fceabfc-cf5c-4998-a7f3-7c9140041405"
      },
      "execution_count": 7,
      "outputs": [
        {
          "output_type": "execute_result",
          "data": {
            "text/plain": [
              "Matrix([\n",
              "[1, 0, 0, p_x],\n",
              "[0, 1, 0, p_y],\n",
              "[0, 0, 1, p_z],\n",
              "[0, 0, 0,   1]])"
            ],
            "text/latex": "$\\displaystyle \\left[\\begin{matrix}1 & 0 & 0 & p_{x}\\\\0 & 1 & 0 & p_{y}\\\\0 & 0 & 1 & p_{z}\\\\0 & 0 & 0 & 1\\end{matrix}\\right]$"
          },
          "metadata": {},
          "execution_count": 7
        }
      ]
    },
    {
      "cell_type": "markdown",
      "source": [
        "###La matriz de transformación homogénea queda de la siguiente forma"
      ],
      "metadata": {
        "id": "Pa52G7v0DaHJ"
      }
    },
    {
      "cell_type": "code",
      "source": [
        "T = P*R\n",
        "T"
      ],
      "metadata": {
        "colab": {
          "base_uri": "https://localhost:8080/",
          "height": 98
        },
        "id": "9fSkkh_mpWmn",
        "outputId": "8f6a7526-42a2-4546-e8e2-16edd01829f4"
      },
      "execution_count": 8,
      "outputs": [
        {
          "output_type": "execute_result",
          "data": {
            "text/plain": [
              "Matrix([\n",
              "[cos(phi)*cos(theta), sin(alpha)*sin(phi)*cos(theta) - sin(theta)*cos(alpha),  sin(alpha)*sin(theta) + sin(phi)*cos(alpha)*cos(theta), p_x],\n",
              "[sin(theta)*cos(phi), sin(alpha)*sin(phi)*sin(theta) + cos(alpha)*cos(theta), -sin(alpha)*cos(theta) + sin(phi)*sin(theta)*cos(alpha), p_y],\n",
              "[          -sin(phi),                                    sin(alpha)*cos(phi),                                     cos(alpha)*cos(phi), p_z],\n",
              "[                  0,                                                      0,                                                       0,   1]])"
            ],
            "text/latex": "$\\displaystyle \\left[\\begin{matrix}\\cos{\\left(\\phi \\right)} \\cos{\\left(\\theta \\right)} & \\sin{\\left(\\alpha \\right)} \\sin{\\left(\\phi \\right)} \\cos{\\left(\\theta \\right)} - \\sin{\\left(\\theta \\right)} \\cos{\\left(\\alpha \\right)} & \\sin{\\left(\\alpha \\right)} \\sin{\\left(\\theta \\right)} + \\sin{\\left(\\phi \\right)} \\cos{\\left(\\alpha \\right)} \\cos{\\left(\\theta \\right)} & p_{x}\\\\\\sin{\\left(\\theta \\right)} \\cos{\\left(\\phi \\right)} & \\sin{\\left(\\alpha \\right)} \\sin{\\left(\\phi \\right)} \\sin{\\left(\\theta \\right)} + \\cos{\\left(\\alpha \\right)} \\cos{\\left(\\theta \\right)} & - \\sin{\\left(\\alpha \\right)} \\cos{\\left(\\theta \\right)} + \\sin{\\left(\\phi \\right)} \\sin{\\left(\\theta \\right)} \\cos{\\left(\\alpha \\right)} & p_{y}\\\\- \\sin{\\left(\\phi \\right)} & \\sin{\\left(\\alpha \\right)} \\cos{\\left(\\phi \\right)} & \\cos{\\left(\\alpha \\right)} \\cos{\\left(\\phi \\right)} & p_{z}\\\\0 & 0 & 0 & 1\\end{matrix}\\right]$"
          },
          "metadata": {},
          "execution_count": 8
        }
      ]
    },
    {
      "cell_type": "markdown",
      "source": [
        "###Ejemplo\n",
        "\n",
        "####Solamente rotación en el sistema de referencia\n",
        "\n"
      ],
      "metadata": {
        "id": "CcL4zt5mvVva"
      }
    },
    {
      "cell_type": "code",
      "source": [
        "alpha = -23\n",
        "phi   = 84\n",
        "theta = 126\n",
        "gg = Matrix_transformation(Rotz_matrix(theta),Roty_matrix(phi),Rotx_matrix(alpha))\n",
        "gg"
      ],
      "metadata": {
        "colab": {
          "base_uri": "https://localhost:8080/",
          "height": 98
        },
        "id": "ZaQbj4FnvaFi",
        "outputId": "be6d7cd0-7555-4e68-cef0-a628c9df1929"
      },
      "execution_count": 9,
      "outputs": [
        {
          "output_type": "execute_result",
          "data": {
            "text/plain": [
              "Matrix([\n",
              "[cos(84)*cos(126), -sin(126)*cos(23) - sin(23)*sin(84)*cos(126), sin(84)*cos(23)*cos(126) - sin(23)*sin(126), 0],\n",
              "[sin(126)*cos(84),  cos(23)*cos(126) - sin(23)*sin(84)*sin(126), sin(23)*cos(126) + sin(84)*sin(126)*cos(23), 0],\n",
              "[        -sin(84),                             -sin(23)*cos(84),                             cos(23)*cos(84), 0],\n",
              "[               0,                                            0,                                           0, 1]])"
            ],
            "text/latex": "$\\displaystyle \\left[\\begin{matrix}\\cos{\\left(84 \\right)} \\cos{\\left(126 \\right)} & - \\sin{\\left(126 \\right)} \\cos{\\left(23 \\right)} - \\sin{\\left(23 \\right)} \\sin{\\left(84 \\right)} \\cos{\\left(126 \\right)} & \\sin{\\left(84 \\right)} \\cos{\\left(23 \\right)} \\cos{\\left(126 \\right)} - \\sin{\\left(23 \\right)} \\sin{\\left(126 \\right)} & 0\\\\\\sin{\\left(126 \\right)} \\cos{\\left(84 \\right)} & \\cos{\\left(23 \\right)} \\cos{\\left(126 \\right)} - \\sin{\\left(23 \\right)} \\sin{\\left(84 \\right)} \\sin{\\left(126 \\right)} & \\sin{\\left(23 \\right)} \\cos{\\left(126 \\right)} + \\sin{\\left(84 \\right)} \\sin{\\left(126 \\right)} \\cos{\\left(23 \\right)} & 0\\\\- \\sin{\\left(84 \\right)} & - \\sin{\\left(23 \\right)} \\cos{\\left(84 \\right)} & \\cos{\\left(23 \\right)} \\cos{\\left(84 \\right)} & 0\\\\0 & 0 & 0 & 1\\end{matrix}\\right]$"
          },
          "metadata": {},
          "execution_count": 9
        }
      ]
    },
    {
      "cell_type": "code",
      "source": [
        "r = np.matrix(gg, dtype=float)\n",
        "r"
      ],
      "metadata": {
        "colab": {
          "base_uri": "https://localhost:8080/"
        },
        "id": "vZmNhrXYvig4",
        "outputId": "f7146243-a605-4d83-d120-e01b345e3bcc"
      },
      "execution_count": 10,
      "outputs": [
        {
          "output_type": "execute_result",
          "data": {
            "text/plain": [
              "matrix([[-0.64193139,  0.7615161 , -0.08953944,  0.        ],\n",
              "        [-0.22440151, -0.29824621, -0.9277355 ,  0.        ],\n",
              "        [-0.73319032, -0.57544976,  0.36233897,  0.        ],\n",
              "        [ 0.        ,  0.        ,  0.        ,  1.        ]])"
            ]
          },
          "metadata": {},
          "execution_count": 10
        }
      ]
    },
    {
      "cell_type": "markdown",
      "source": [
        "####Solamente traslación en el sistema de referencia"
      ],
      "metadata": {
        "id": "fxq8K80vEbpm"
      }
    },
    {
      "cell_type": "code",
      "source": [
        "r_x = 0.6\n",
        "r_y = 2.1\n",
        "r_z = 1.2\n",
        "\n",
        "pp = Posicion(r_x,r_y,r_z)\n",
        "pp"
      ],
      "metadata": {
        "colab": {
          "base_uri": "https://localhost:8080/",
          "height": 98
        },
        "id": "Smj5udkWqvu-",
        "outputId": "77821be3-9877-4c7d-fc8e-c368c835cd1e"
      },
      "execution_count": 11,
      "outputs": [
        {
          "output_type": "execute_result",
          "data": {
            "text/plain": [
              "Matrix([\n",
              "[1, 0, 0, 0.6],\n",
              "[0, 1, 0, 2.1],\n",
              "[0, 0, 1, 1.2],\n",
              "[0, 0, 0,   1]])"
            ],
            "text/latex": "$\\displaystyle \\left[\\begin{matrix}1 & 0 & 0 & 0.6\\\\0 & 1 & 0 & 2.1\\\\0 & 0 & 1 & 1.2\\\\0 & 0 & 0 & 1\\end{matrix}\\right]$"
          },
          "metadata": {},
          "execution_count": 11
        }
      ]
    },
    {
      "cell_type": "code",
      "source": [
        "p = np.matrix(pp, dtype=float)\n",
        "p"
      ],
      "metadata": {
        "colab": {
          "base_uri": "https://localhost:8080/"
        },
        "id": "X_O5Bu2rwy0Z",
        "outputId": "f1bb48f6-c13c-48a9-ac2e-b6e75556ffa7"
      },
      "execution_count": 12,
      "outputs": [
        {
          "output_type": "execute_result",
          "data": {
            "text/plain": [
              "matrix([[1. , 0. , 0. , 0.6],\n",
              "        [0. , 1. , 0. , 2.1],\n",
              "        [0. , 0. , 1. , 1.2],\n",
              "        [0. , 0. , 0. , 1. ]])"
            ]
          },
          "metadata": {},
          "execution_count": 12
        }
      ]
    },
    {
      "cell_type": "markdown",
      "source": [
        "####Rotación seguida de una traslación"
      ],
      "metadata": {
        "id": "I7s0otu8Et5R"
      }
    },
    {
      "cell_type": "code",
      "source": [
        "phi = 84\n",
        "r_x = 0.7\n",
        "r_y = 1.4\n",
        "r_z = 1.5\n",
        "\n",
        "rottras = Posicion(r_x,r_y,r_z) * Matrix_transformation(1,Roty_matrix(phi),1)\n",
        "rottras"
      ],
      "metadata": {
        "colab": {
          "base_uri": "https://localhost:8080/",
          "height": 98
        },
        "id": "WAga9IV_FOMP",
        "outputId": "b90310d4-5e51-41f9-cf13-465a873af982"
      },
      "execution_count": 18,
      "outputs": [
        {
          "output_type": "execute_result",
          "data": {
            "text/plain": [
              "Matrix([\n",
              "[ cos(84), 0, sin(84), 0.7],\n",
              "[       0, 1,       0, 1.4],\n",
              "[-sin(84), 0, cos(84), 1.5],\n",
              "[       0, 0,       0,   1]])"
            ],
            "text/latex": "$\\displaystyle \\left[\\begin{matrix}\\cos{\\left(84 \\right)} & 0 & \\sin{\\left(84 \\right)} & 0.7\\\\0 & 1 & 0 & 1.4\\\\- \\sin{\\left(84 \\right)} & 0 & \\cos{\\left(84 \\right)} & 1.5\\\\0 & 0 & 0 & 1\\end{matrix}\\right]$"
          },
          "metadata": {},
          "execution_count": 18
        }
      ]
    },
    {
      "cell_type": "code",
      "source": [
        "np.matrix(rottras, dtype=float)"
      ],
      "metadata": {
        "colab": {
          "base_uri": "https://localhost:8080/"
        },
        "id": "LBFYWW8oFd6a",
        "outputId": "ed0ce338-d2bd-445e-9487-d71c51f1c4db"
      },
      "execution_count": 19,
      "outputs": [
        {
          "output_type": "execute_result",
          "data": {
            "text/plain": [
              "matrix([[-0.6800235 ,  0.        ,  0.73319032,  0.7       ],\n",
              "        [ 0.        ,  1.        ,  0.        ,  1.4       ],\n",
              "        [-0.73319032,  0.        , -0.6800235 ,  1.5       ],\n",
              "        [ 0.        ,  0.        ,  0.        ,  1.        ]])"
            ]
          },
          "metadata": {},
          "execution_count": 19
        }
      ]
    },
    {
      "cell_type": "markdown",
      "source": [
        "###Traslación seguida de una rotación"
      ],
      "metadata": {
        "id": "nKnV3mbxFm4K"
      }
    },
    {
      "cell_type": "code",
      "source": [
        "phi = 84\n",
        "r_x = 0.7\n",
        "r_y = 1.4\n",
        "r_z = 1.5\n",
        "\n",
        "trasrot = Matrix_transformation(1,Roty_matrix(phi),1) * Posicion(r_x,r_y,r_z) \n",
        "trasrot"
      ],
      "metadata": {
        "colab": {
          "base_uri": "https://localhost:8080/",
          "height": 98
        },
        "id": "F_leeB_3FuOC",
        "outputId": "0cc929be-62ac-4251-a254-f7e4cbd07b6d"
      },
      "execution_count": 20,
      "outputs": [
        {
          "output_type": "execute_result",
          "data": {
            "text/plain": [
              "Matrix([\n",
              "[ cos(84), 0, sin(84), 0.7*cos(84) + 1.5*sin(84)],\n",
              "[       0, 1,       0,                       1.4],\n",
              "[-sin(84), 0, cos(84), 1.5*cos(84) - 0.7*sin(84)],\n",
              "[       0, 0,       0,                         1]])"
            ],
            "text/latex": "$\\displaystyle \\left[\\begin{matrix}\\cos{\\left(84 \\right)} & 0 & \\sin{\\left(84 \\right)} & 0.7 \\cos{\\left(84 \\right)} + 1.5 \\sin{\\left(84 \\right)}\\\\0 & 1 & 0 & 1.4\\\\- \\sin{\\left(84 \\right)} & 0 & \\cos{\\left(84 \\right)} & 1.5 \\cos{\\left(84 \\right)} - 0.7 \\sin{\\left(84 \\right)}\\\\0 & 0 & 0 & 1\\end{matrix}\\right]$"
          },
          "metadata": {},
          "execution_count": 20
        }
      ]
    },
    {
      "cell_type": "code",
      "source": [
        "np.matrix(trasrot, dtype=float)"
      ],
      "metadata": {
        "colab": {
          "base_uri": "https://localhost:8080/"
        },
        "id": "RB24OSFFF1w-",
        "outputId": "72fd825e-1a81-4196-b1fd-fd3e7905353d"
      },
      "execution_count": 21,
      "outputs": [
        {
          "output_type": "execute_result",
          "data": {
            "text/plain": [
              "matrix([[-0.6800235 ,  0.        ,  0.73319032,  0.62376903],\n",
              "        [ 0.        ,  1.        ,  0.        ,  1.4       ],\n",
              "        [-0.73319032,  0.        , -0.6800235 , -1.53326847],\n",
              "        [ 0.        ,  0.        ,  0.        ,  1.        ]])"
            ]
          },
          "metadata": {},
          "execution_count": 21
        }
      ]
    },
    {
      "cell_type": "markdown",
      "source": [
        "####Rotación en X e Y, Traslacion y Rotación en Z"
      ],
      "metadata": {
        "id": "Q6twOsRwGGWQ"
      }
    },
    {
      "cell_type": "code",
      "source": [
        "alpha = 64\n",
        "phi   = 84\n",
        "theta = 126\n",
        "r_x = 0.7\n",
        "r_y = 1.4\n",
        "r_z = 1.5\n",
        "\n",
        "Matrix_transformation(Rotz_matrix(theta),1,1) * Posicion(r_x,r_y,r_z) * Matrix_transformation(Rotx_matrix(alpha),Roty_matrix(phi),1)\n",
        "\n"
      ],
      "metadata": {
        "colab": {
          "base_uri": "https://localhost:8080/",
          "height": 98
        },
        "id": "SOiRGrd3xAJ6",
        "outputId": "934c6688-c7b0-42d8-a13a-431b4702cae6"
      },
      "execution_count": 13,
      "outputs": [
        {
          "output_type": "execute_result",
          "data": {
            "text/plain": [
              "Matrix([\n",
              "[cos(84)*cos(126) - sin(64)*sin(84)*sin(126), -sin(126)*cos(64), sin(64)*sin(126)*cos(84) + sin(84)*cos(126), -1.4*sin(126) + 0.7*cos(126)],\n",
              "[sin(126)*cos(84) + sin(64)*sin(84)*cos(126),  cos(64)*cos(126), sin(84)*sin(126) - sin(64)*cos(84)*cos(126),  0.7*sin(126) + 1.4*cos(126)],\n",
              "[                           -sin(84)*cos(64),           sin(64),                             cos(64)*cos(84),                          1.5],\n",
              "[                                          0,                 0,                                           0,                            1]])"
            ],
            "text/latex": "$\\displaystyle \\left[\\begin{matrix}\\cos{\\left(84 \\right)} \\cos{\\left(126 \\right)} - \\sin{\\left(64 \\right)} \\sin{\\left(84 \\right)} \\sin{\\left(126 \\right)} & - \\sin{\\left(126 \\right)} \\cos{\\left(64 \\right)} & \\sin{\\left(64 \\right)} \\sin{\\left(126 \\right)} \\cos{\\left(84 \\right)} + \\sin{\\left(84 \\right)} \\cos{\\left(126 \\right)} & - 1.4 \\sin{\\left(126 \\right)} + 0.7 \\cos{\\left(126 \\right)}\\\\\\sin{\\left(126 \\right)} \\cos{\\left(84 \\right)} + \\sin{\\left(64 \\right)} \\sin{\\left(84 \\right)} \\cos{\\left(126 \\right)} & \\cos{\\left(64 \\right)} \\cos{\\left(126 \\right)} & \\sin{\\left(84 \\right)} \\sin{\\left(126 \\right)} - \\sin{\\left(64 \\right)} \\cos{\\left(84 \\right)} \\cos{\\left(126 \\right)} & 0.7 \\sin{\\left(126 \\right)} + 1.4 \\cos{\\left(126 \\right)}\\\\- \\sin{\\left(84 \\right)} \\cos{\\left(64 \\right)} & \\sin{\\left(64 \\right)} & \\cos{\\left(64 \\right)} \\cos{\\left(84 \\right)} & 1.5\\\\0 & 0 & 0 & 1\\end{matrix}\\right]$"
          },
          "metadata": {},
          "execution_count": 13
        }
      ]
    },
    {
      "cell_type": "code",
      "source": [
        "np.matrix(Matrix_transformation(Rotz_matrix(theta),1,1) * Posicion(r_x,r_y,r_z) * Matrix_transformation(Rotx_matrix(alpha),Roty_matrix(phi),1), dtype=float)"
      ],
      "metadata": {
        "colab": {
          "base_uri": "https://localhost:8080/"
        },
        "id": "Ld1o7NqrMlN1",
        "outputId": "b2eff0fa-e521-435a-b71b-2e226033b62d"
      },
      "execution_count": 14,
      "outputs": [
        {
          "output_type": "execute_result",
          "data": {
            "text/plain": [
              "matrix([[-0.86452809, -0.12930929,  0.4856648 ,  0.19880174],\n",
              "        [ 0.41236694,  0.36990701,  0.83253968,  1.55257137],\n",
              "        [-0.28730593,  0.92002604, -0.26647212,  1.5       ],\n",
              "        [ 0.        ,  0.        ,  0.        ,  1.        ]])"
            ]
          },
          "metadata": {},
          "execution_count": 14
        }
      ]
    }
  ]
}
